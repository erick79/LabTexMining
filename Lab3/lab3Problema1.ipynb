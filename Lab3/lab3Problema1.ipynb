{
 "cells": [
  {
   "cell_type": "markdown",
   "metadata": {},
   "source": [
    "### PROBLEMA 1"
   ]
  },
  {
   "cell_type": "markdown",
   "metadata": {},
   "source": [
    "EJERCICIO 1:\n",
    " Implemente una regex para validar un correo electr´onico en general, a continuaci´on se mues\n",
    "tran algunos ejemplos.\n",
    " Guate.360-porelmundo@miguate.com\n",
    " Miercoles3@hotmail.com\n",
    " Progra3.galileo@galileo.edu"
   ]
  },
  {
   "cell_type": "code",
   "execution_count": 36,
   "metadata": {},
   "outputs": [],
   "source": [
    "import re\n",
    "\n",
    "def esEmail(email):\n",
    "    regex = r\"^[a-zA-Z0-9_.+-]+@[a-zA-Z0-9-]+\\.[a-zA-Z0-9-.]+$\"\n",
    "    return re.match(regex, email) is not None"
   ]
  },
  {
   "cell_type": "code",
   "execution_count": 37,
   "metadata": {},
   "outputs": [
    {
     "name": "stdout",
     "output_type": "stream",
     "text": [
      "Guate.360-porelmundo@miguate.com es un correo electrónico válido.\n",
      "Miercoles3@hotmail.com es un correo electrónico válido.\n",
      "Progra3.galileo@galileo.edu es un correo electrónico válido.\n",
      "Progra3.galileo.com no es un correo electrónico válido.\n"
     ]
    }
   ],
   "source": [
    "#probando la funcion que regresa si una expresion es EsEmail\n",
    "emails = [\n",
    "    \"Guate.360-porelmundo@miguate.com\",\n",
    "    \"Miercoles3@hotmail.com\",\n",
    "    \"Progra3.galileo@galileo.edu\",\n",
    "    \"Progra3.galileo.com\",\n",
    "]\n",
    "\n",
    "for email in emails:\n",
    "    if esEmail(email):\n",
    "        print(f\"{email} es un correo electrónico válido.\")\n",
    "    else:\n",
    "        print(f\"{email} no es un correo electrónico válido.\") \n"
   ]
  },
  {
   "cell_type": "markdown",
   "metadata": {},
   "source": [
    "Ejercicio2:\n",
    " 2. implemente una regex para validar la direcci´on url de una p´agina web con los tipos de domino\n",
    " (.com, .org, .edu). Note que la url incluye el protocolo (http o https) y los s´ ımbolos (//www.),\n",
    " a continuaci´on se muestran algunos ejemplos:\n",
    " https://www.guate360-porelmundo.com\n",
    " http://www.a2.net\n",
    " https://www.galileo.edu\n",
    " http://www.8.org (No valida)"
   ]
  },
  {
   "cell_type": "code",
   "execution_count": 26,
   "metadata": {},
   "outputs": [],
   "source": [
    "import re\n",
    "\n",
    "def esURL(url):\n",
    "    regex = r\"^(https?://)?(www.)?([a-zA-Z0-9][a-zA-Z0-9-]+(?:\\.[a-zA-Z0-9-]+)*)\\.(com|org|edu)$\"\n",
    "    return re.match(regex, url) is not None\n"
   ]
  },
  {
   "cell_type": "code",
   "execution_count": 30,
   "metadata": {},
   "outputs": [
    {
     "name": "stdout",
     "output_type": "stream",
     "text": [
      "https://www.guate360-porelmundo.com es una URL válida.\n",
      "http://www.a2.net no es una URL válida.\n",
      "https://www.galileo.edu es una URL válida.\n",
      "http://www.8.org es una URL válida.\n"
     ]
    }
   ],
   "source": [
    "#probando la funcion que regresa si una url es valida\n",
    "urls = [\n",
    "    \"https://www.guate360-porelmundo.com\",\n",
    "    \"http://www.a2.net\",\n",
    "    \"https://www.galileo.edu\",\n",
    "    \"http://www.8.org\"\n",
    "]\n",
    "\n",
    "for url in urls:\n",
    "    if esURL(url):\n",
    "        print(f\"{url} es una URL válida.\")\n",
    "    else:\n",
    "        print(f\"{url} no es una URL válida.\")"
   ]
  },
  {
   "cell_type": "markdown",
   "metadata": {},
   "source": [
    "Ejercicio 3\n",
    " Implemente una regex para validar una MAC Address, notar que las mac addres est´an divi\n",
    "didas en 6 bloques de caracteres hexadecimales, es decir que los s´ ımbolos solo pueden variar\n",
    " del 0 al 9 y las letras de la A a la F. a continuaci´on se muestran algunos ejemplos:\n",
    " 5A 6F AF 8C 9B 1D\n",
    " 6D 6C 4D 3A EB 3F\n",
    " 3A 7C FA C8 6D 4J (no valida por que el ultimo bloque contiene una J)"
   ]
  },
  {
   "cell_type": "code",
   "execution_count": 31,
   "metadata": {},
   "outputs": [],
   "source": [
    "import re\n",
    "\n",
    "def esMacAddress(mac):\n",
    "    regex = r\"^[0-9A-F]{2}(:[0-9A-F]{2}){5}$\"\n",
    "    return re.match(regex, mac.upper()) is not None"
   ]
  },
  {
   "cell_type": "code",
   "execution_count": 34,
   "metadata": {},
   "outputs": [
    {
     "name": "stdout",
     "output_type": "stream",
     "text": [
      "5A 6F AF 8C 9B 1D no es una dirección MAC válida.\n",
      "6D 6C 4D 3A EB 3F no es una dirección MAC válida.\n",
      "3A 7C FA C8 6D 4J no es una dirección MAC válida.\n"
     ]
    }
   ],
   "source": [
    "#probando la funcion que regresa si una direccion mac address es Valida\n",
    "macs = [\n",
    "    \"5A 6F AF 8C 9B 1D\",\n",
    "    \"6D 6C 4D 3A EB 3F\",\n",
    "    \"3A 7C FA C8 6D 4J\"\n",
    "]\n",
    "\n",
    "for mac in macs:\n",
    "    if esMacAddress(mac):\n",
    "        print(f\"{mac} es una dirección MAC válida.\")\n",
    "    else:\n",
    "        print(f\"{mac} no es una dirección MAC válida.\")"
   ]
  },
  {
   "cell_type": "markdown",
   "metadata": {},
   "source": [
    "Ejercico 4:\n",
    "Implemente una regex para validar una direcci´on IPv4, notar que las direcciones IPv4 est´an\n",
    " divididas en 4 bloques de valores los cuales solo pueden ir desde 0 hasta 255, una ip donde\n",
    " algunos de sus bloques sea mayor a 255 no es valida, adem´as tome en cuenta que cada bloque\n",
    " est´a separada por un punto. A continuaci´on se muestran algunos ejemplos:\n",
    " 192.16.8.1\n",
    " 234.56.78.90\n",
    " 1.2.3.4\n",
    " 192.168.45.345 (no valida por que el ultimo bloque es mayor a 255"
   ]
  },
  {
   "cell_type": "code",
   "execution_count": 39,
   "metadata": {},
   "outputs": [],
   "source": [
    "import re\n",
    "\n",
    "def esIPV4(ip):\n",
    "    regex = r\"^(?:(?:25[0-5]|2[0-4][0-9]|1[0-9]{2}|[1-9][0-9]|[0-9])\\.){3}(?:25[0-5]|2[0-4][0-9]|1[0-9]{2}|[1-9][0-9]|[0-9])$\"\n",
    "    return re.match(regex, ip) is not None"
   ]
  },
  {
   "cell_type": "code",
   "execution_count": 41,
   "metadata": {},
   "outputs": [
    {
     "name": "stdout",
     "output_type": "stream",
     "text": [
      "192.168.1.1 es una dirección IPv4 válida.\n",
      "234.56.78.90 es una dirección IPv4 válida.\n",
      "1.2.3.4 es una dirección IPv4 válida.\n",
      "192.168.45.345 no es una dirección IPv4 válida.\n"
     ]
    }
   ],
   "source": [
    "#probando la funcion que regresa si una direccion ipv4  es Valida\n",
    "ips = [\n",
    "    \"192.168.1.1\",\n",
    "    \"234.56.78.90\",\n",
    "    \"1.2.3.4\",\n",
    "    \"192.168.45.345\"\n",
    "]\n",
    "\n",
    "for ip in ips:\n",
    "    if esIPV4(ip):\n",
    "        print(f\"{ip} es una dirección IPv4 válida.\")\n",
    "    else:\n",
    "        print(f\"{ip} no es una dirección IPv4 válida.\")"
   ]
  },
  {
   "cell_type": "markdown",
   "metadata": {},
   "source": [
    "Ejercicio 4:\n",
    " Implemente una regex para validar una fecha con la secuencia d´ ıa-mes-a˜ no donde el d´ ıa, mes\n",
    " y a˜ no puedan estar separados ya sea por el caracter / o el caracter- o el caracter ., notar\n",
    " que las fechas son validas si los si los d´ ıas est´an definidos desde el 1 al 31, el mes del 1 al 12\n",
    " y el a˜ no de 2000 al 2019. Tambi´ en debe tomar en cuenta que los d´ ıas y meses pueden estar\n",
    " escritos ya sea con uno o dos caracteres por ejemplo: Enero puede escribirse como 1 o como\n",
    " 01. Los a˜ nos tambi´ en pueden expresarse ya sea con dos o con cuatro caracteres por ejemplo:\n",
    " 19 o 2019 son validos. A continuaci´on se muestran algunos ejemplos:\n",
    " 20/1/2019\n",
    " 12.03.2005\n",
    " 31-11-08\n",
    " 1-1-2012\n",
    " 12-12-22 (no valida, por que el a˜ no supera al 2019)"
   ]
  },
  {
   "cell_type": "code",
   "execution_count": 64,
   "metadata": {},
   "outputs": [],
   "source": [
    "import re\n",
    "\n",
    "def esFecha(ip):\n",
    "    regex = r\"^(0?[1-9]|[12][0-9]|3[01])[-/.](0?[1-9]|1[0-2])[-/.]((200\\d|201[0-9])|([0-1]\\d))$\"\n",
    "    return re.match(regex, ip) is not None"
   ]
  },
  {
   "cell_type": "code",
   "execution_count": 65,
   "metadata": {},
   "outputs": [
    {
     "name": "stdout",
     "output_type": "stream",
     "text": [
      "20/1/2019 es una fecha válida.\n",
      "12.03.2005 es una fecha válida.\n",
      "31-11-08 es una fecha válida.\n",
      "1-1-2012 es una fecha válida.\n",
      "12-12-22 no es una fecha válida.\n"
     ]
    }
   ],
   "source": [
    "#probando la funcion que regresa si una direccion ipv4  es Valida\n",
    "fechas = [\n",
    "    \"20/1/2019\",\n",
    "    \"12.03.2005\",\n",
    "    \"31-11-08\",\n",
    "    \"1-1-2012\",\n",
    "    \"12-12-22\"\n",
    "]\n",
    "\n",
    "for fecha in fechas:\n",
    "    if esFecha(fecha)== True:\n",
    "        print(f\"{fecha} es una fecha válida.\")\n",
    "    else:\n",
    "        print(f\"{fecha} no es una fecha válida.\")"
   ]
  }
 ],
 "metadata": {
  "kernelspec": {
   "display_name": "Python 3",
   "language": "python",
   "name": "python3"
  },
  "language_info": {
   "codemirror_mode": {
    "name": "ipython",
    "version": 3
   },
   "file_extension": ".py",
   "mimetype": "text/x-python",
   "name": "python",
   "nbconvert_exporter": "python",
   "pygments_lexer": "ipython3",
   "version": "3.12.0"
  }
 },
 "nbformat": 4,
 "nbformat_minor": 2
}
