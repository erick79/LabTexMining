{
 "cells": [
  {
   "cell_type": "markdown",
   "metadata": {},
   "source": [
    "### Kernel Laplaceano vrs Algoritmo de Canny"
   ]
  },
  {
   "cell_type": "markdown",
   "metadata": {},
   "source": [
    "### Kernel Laplaceano\n",
    "El kernel Laplaceano es un dector de bordes básico.\n",
    "\n",
    "El Laplaciano es un operador diferencial de segundo orden que se utiliza comúnmente en el procesamiento de imágenes para detectar bordes. Su función principal es resaltar los cambios bruscos de intensidad en una imagen, lo que se manifiesta como bordes, pero suele tener mucho ruido a diferencia del algorimto de Canny.\n",
    "\n",
    "como trabaja:\n",
    "\n",
    "Máscara de convolución: Se aplica una máscara de convolución (un kernel) a cada píxel de la imagen.\n",
    "                        Detección de cambios bruscos: Los píxeles cercanos a un borde producirán valores altos en el resultado de la convolución, indicando la presencia de un borde.\n",
    "\n",
    "Sensibilidad al ruido: El Laplaciano es muy sensible al ruido presente en la imagen, lo que puede generar falsos positivos.\n",
    "                       Limitaciones del Laplaciano:\n",
    "\n",
    "Sensibilidad al ruido: Como se mencionó, el Laplaciano es muy sensible al ruido, lo que puede dificultar la detección de\n",
    "                       bordes reales.  \n",
    "\n",
    "Doble borde: El Laplaciano produce un doble borde en los bordes reales, lo que puede complicar el análisis posterior.\n",
    "\n",
    "### Limitantes\n",
    "Sensibilidad al ruido: Como se mencionó, el Laplaciano es muy sensible al ruido, lo que puede dificultar la detección de \n",
    "                       bordes reales.\n",
    "                       \n",
    "Doble borde: El Laplaciano produce un doble borde en los bordes reales, lo que puede complicar el análisis posterior."
   ]
  },
  {
   "cell_type": "markdown",
   "metadata": {},
   "source": [
    "### Algoritmo de Canny\n",
    "\n",
    "El algoritmo de Canny es un detector de bordes más sofisticado y robusto que el Laplaciano. Fue diseñado para optimizar la detección de bordes en imágenes ruidosas.\n",
    "\n",
    "como trabaja:\n",
    "\n",
    "Reducción de ruido: Se aplica un filtro de Gauss para suavizar la imagen y reducir el ruido.\n",
    "\n",
    "Cálculo del gradiente: Se calcula la magnitud y la dirección del gradiente en cada píxel.\n",
    "\n",
    "Supresión no máxima: Se suprimen los píxeles que no corresponden a los máximos locales del gradiente, dejando solo los bordes \n",
    "                     más fuertes.\n",
    "\n",
    "Umbralización: Se aplican dos umbrales para determinar qué bordes se consideran fuertes, débiles o se descartan.\n",
    "\n",
    "Histeresis: Los bordes débiles conectados a bordes fuertes se conservan, mientras que los bordes débiles aislados se descartan.\n",
    "\n",
    "### Ventajas del algoritmo de Canny\n",
    "\n",
    "Robustez al ruido: Gracias a la filtración de Gauss y la supresión no máxima, el algoritmo de Canny es mucho más resistente al \n",
    "                   ruido que el Laplaciano.\n",
    "\n",
    "Precisión: El algoritmo de Canny proporciona una detección de bordes más precisa y localizada.\n",
    "           Simplicidad: A pesar de su sofisticación, el algoritmo de Canny es relativamente sencillo de implementar.\n",
    "           "
   ]
  }
 ],
 "metadata": {
  "language_info": {
   "name": "python"
  }
 },
 "nbformat": 4,
 "nbformat_minor": 2
}
